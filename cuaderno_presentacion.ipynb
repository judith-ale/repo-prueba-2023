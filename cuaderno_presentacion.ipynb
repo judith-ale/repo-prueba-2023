{
  "nbformat": 4,
  "nbformat_minor": 0,
  "metadata": {
    "colab": {
      "provenance": []
    },
    "kernelspec": {
      "name": "python3",
      "display_name": "Python 3"
    },
    "language_info": {
      "name": "python"
    }
  },
  "cells": [
    {
      "cell_type": "markdown",
      "source": [
        "## Introducción\n",
        "[Wikipedia](https://www.wikipedia.org/)"
      ],
      "metadata": {
        "id": "DrTkbNBqWNwI"
      }
    },
    {
      "cell_type": "markdown",
      "source": [
        "![imagen](https://oci02.img.iteso.mx/Identidades-De-Instancia/ITESO/Logos%20ITESO/Logo-ITESO-Principal.jpg)"
      ],
      "metadata": {
        "id": "YoIhHns1W3lT"
      }
    },
    {
      "cell_type": "markdown",
      "source": [
        "1. Primer item\n",
        "2. Segundo\n",
        "3. Tercero\n",
        "\n",
        "+ Item no numerado\n",
        "- Segundo item no numerado\n"
      ],
      "metadata": {
        "id": "RLDm4YkuW-ge"
      }
    },
    {
      "cell_type": "markdown",
      "source": [
        "```\n",
        "import pandas as pd\n",
        "import numpy as np\n",
        "import matplotlib.pyplot as plt\n",
        "```"
      ],
      "metadata": {
        "id": "XDLkG6QCXQ73"
      }
    },
    {
      "cell_type": "code",
      "execution_count": null,
      "metadata": {
        "id": "2he-OGMeVu-8"
      },
      "outputs": [],
      "source": []
    }
  ]
}